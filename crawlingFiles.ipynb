{
 "metadata": {
  "name": ""
 },
 "nbformat": 3,
 "nbformat_minor": 0,
 "worksheets": [
  {
   "cells": [
    {
     "cell_type": "code",
     "collapsed": false,
     "input": [
      "ids = open('wortliste.csv').read().split('\\n')[:-1]\n",
      "\n",
      "import urllib2\n",
      "import time\n",
      "stri = 'http://kjc-fs-cluster.kjc.uni-heidelberg.de/dcs/index.php?contents=einzelwort&IDWord='\n",
      "secondList = list()\n",
      "\n",
      "for item in ids:\n",
      "    try:\n",
      "        response = urllib2.urlopen(stri+item.strip('\"'))\n",
      "        html = response.read()\n",
      "        f = open('htmls/'+item.strip('\"')+'.html','w')\n",
      "        print >>f,html\n",
      "        f.close()\n",
      "    except:\n",
      "        secondList.append(item.strip('\"'))\n",
      "    time.sleep(1/100.0)\n",
      "    \n",
      "print secondList"
     ],
     "language": "python",
     "metadata": {},
     "outputs": [],
     "prompt_number": "*"
    },
    {
     "cell_type": "code",
     "collapsed": false,
     "input": [
      "import os\n",
      "\n",
      "pathname = '/home/amrith/Downloads/segmentation/htmls/'\n",
      "\n",
      "savedFiles = list()\n",
      "for filename in os.listdir(pathname):\n",
      "    savedFiles.append(filename.split('.')[0])\n",
      "    \n",
      "print len(savedFiles)    \n",
      "pathname = '/home/amrith/Downloads/segmentation/htmls2/'\n",
      "\n",
      "for filename in os.listdir(pathname):\n",
      "    savedFiles.append(filename.split('.')[0])\n",
      "\n",
      "print len(savedFiles)    \n",
      "pathname = '/home/amrith/Downloads/segmentation/htmls3/'\n",
      "\n",
      "for filename in os.listdir(pathname):\n",
      "    savedFiles.append(filename.split('.')[0])\n",
      "    \n",
      "pathname = '/home/amrith/Downloads/segmentation/htmls4/'\n",
      "\n",
      "print len(savedFiles)    \n",
      "\n",
      "for filename in os.listdir(pathname):\n",
      "    savedFiles.append(filename.split('.')[0])\n",
      "print len(savedFiles)      \n",
      "pathname = '/home/amrith/Downloads/segmentation/htmls5/'\n",
      "\n",
      "for filename in os.listdir(pathname):\n",
      "    savedFiles.append(filename.split('.')[0])\n",
      "\n",
      "  \n",
      "print len(savedFiles)\n",
      "\n",
      "pathname = '/home/amrith/Downloads/segmentation/htmls6/'\n",
      "\n",
      "for filename in os.listdir(pathname):\n",
      "    savedFiles.append(filename.split('.')[0])\n",
      "\n",
      "  \n",
      "print len(savedFiles)\n",
      "ids = open('wortliste.csv').read().split('\\n')[:-1]\n",
      "newIds = list()\n",
      "for item in ids:\n",
      "    newIds.append(item.strip('\"'))"
     ],
     "language": "python",
     "metadata": {},
     "outputs": [
      {
       "output_type": "stream",
       "stream": "stdout",
       "text": [
        "22668\n",
        "30106"
       ]
      },
      {
       "output_type": "stream",
       "stream": "stdout",
       "text": [
        "\n",
        "34699"
       ]
      },
      {
       "output_type": "stream",
       "stream": "stdout",
       "text": [
        "\n",
        "48372"
       ]
      },
      {
       "output_type": "stream",
       "stream": "stdout",
       "text": [
        "\n",
        "70920"
       ]
      },
      {
       "output_type": "stream",
       "stream": "stdout",
       "text": [
        "\n",
        "72933\n"
       ]
      }
     ],
     "prompt_number": 7
    },
    {
     "cell_type": "code",
     "collapsed": false,
     "input": [
      "secondList = list()\n",
      "for item in newIds:\n",
      "    if item not in savedFiles:\n",
      "        secondList.append(item)"
     ],
     "language": "python",
     "metadata": {},
     "outputs": [],
     "prompt_number": 8
    },
    {
     "cell_type": "code",
     "collapsed": false,
     "input": [
      "print len(newIds),len(savedFiles),len(secondList)\n",
      "\n",
      "print savedFiles[0],newIds[0]"
     ],
     "language": "python",
     "metadata": {},
     "outputs": [
      {
       "output_type": "stream",
       "stream": "stdout",
       "text": [
        "72933 72933 0\n",
        "127928 173311\n"
       ]
      }
     ],
     "prompt_number": 9
    },
    {
     "cell_type": "code",
     "collapsed": false,
     "input": [
      "newList = secondList\n",
      "import urllib2\n",
      "import time\n",
      "stri = 'http://kjc-fs-cluster.kjc.uni-heidelberg.de/dcs/index.php?contents=einzelwort&IDWord='\n",
      "secondList = list()\n",
      "\n",
      "for item in newList:\n",
      "    try:\n",
      "        response = urllib2.urlopen(stri+item)\n",
      "        html = response.read()\n",
      "        f = open('htmls6/'+item+'.html','w')\n",
      "        print >>f,html\n",
      "        f.close()\n",
      "    except:\n",
      "        secondList.append(item)\n",
      "    time.sleep(1/100.0)\n",
      "    \n",
      "print secondList"
     ],
     "language": "python",
     "metadata": {},
     "outputs": [
      {
       "output_type": "stream",
       "stream": "stdout",
       "text": [
        "[]\n"
       ]
      }
     ],
     "prompt_number": 6
    }
   ],
   "metadata": {}
  }
 ]
}
